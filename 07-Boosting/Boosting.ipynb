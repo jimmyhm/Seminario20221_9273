{
 "cells": [
  {
   "cell_type": "markdown",
   "metadata": {},
   "source": [
    "### Boosting \n",
    "Boosting es una de las ideas de aprendizaje más poderosas presentadas en los últimos veinte años. Fue diseñada originalmente para problemas de clasificación, pero también puede ser usado beneficamente para problemas de regresión. La motivación para boosting es combinar las salidas de muchos clasificadores \"debiles\" para producir un \"ensamble\" más poderoso.\n",
    "Desde esta perspectiva, boosting tiene un parecido con bagging y otros enfoques basados en ensambles. Sin embargo, veremos que la conexión es, en el mejor de los casos superficial y boosting es fundamentalmente diferente.\n",
    "Comenzaremos por describir el algoritmo de boosting más popular gracias a  Freund and Schapire (1997) llamado \"AdaBoost.M1.\" Considera un problema de dos clases, con la variable de salida codificada como $Y\\in \\{-1,1\\}$. Dado un vector de variales predictoras $X$, un clasificador $G(X)$ produce una predicción tomando uno de las dos  posibles valores $\\{-1,1\\}$ La tasa de error en la muestra de entrenamieto es:\n",
    "\n",
    "$$\n",
    "\\bar{err}=\\dfrac{1}{N}\\sum_{i=1}^N I(y_i\\neq G(x_i))\n",
    "$$\n",
    "y la tasa de error esperada en predicciones futuras es $E_{XY} I(Y\\neq G(X))$\n",
    "Un clasificador más \"débil\" es el aquel cuya la tasa de error es ligeramente mejor que una elección  al azar. El propósito del boosting es aplicar secuencialmente el algoritmo de clasificación débil a versiones modificadas de la data repetidamente, por lo tanto producir una secuencia de clasificadores débiles $G_m(x)$ $m=1,2,3,...,M$."
   ]
  },
  {
   "cell_type": "markdown",
   "metadata": {},
   "source": [
    "<img src=\"boosting.png\" width=\"200px\">\n",
    "Los clasificadores son entrenados con versiones ponderadas de los datos, y luego combinadas para producir una predicción final.\n"
   ]
  },
  {
   "cell_type": "markdown",
   "metadata": {},
   "source": [
    "Las predicciones de todos ellos son combinadas mediante el voto mayoritario ponderado para producir la predicción final:\n",
    "$$\n",
    "\\begin{equation}\n",
    "G(x)=sign \\left[ \\sum_{m=1}^M \\alpha_m G_m(x) \\right]\n",
    "\\end{equation}\n",
    "$$\n",
    "\n",
    "Aqui $\\alpha_1,..,\\alpha_m$ son calculadas por el algoritmo boosting, y sopesa la contribucion de cada una respecto $G_m(x)$. Su efecto es dar una mayor influencia a los clasificadores más precisos en la sucesión."
   ]
  },
  {
   "cell_type": "markdown",
   "metadata": {},
   "source": [
    "La modificación de los datos en cada paso del boosting consiste en aplicar pesos de $w_1,...,w_M$a cada uno de los de las observaciones de entrenamiento $(x_1,y_i)$, $i=1,...,N$.\n",
    "Inicialmente todos los pesos son configurados en $\\dfrac{1}{N}$ de manera que en el primer paso simplemente se entrena el clasificador sobre los datos de la forma usual.\n",
    "Para cada iteración sucesiva $m= 2,3,...., M$ la observación pesadas son individualmente modificados y el algoritmo de clasificación es reaplicado a las observaciones ponderadas.\n",
    "En el paso m, las observaciones que fueron mal clasificadas por el clasificador $G_{m-1}(x)$ inducido en el paso anterior, han aumentado sus pesos, mientras que los pesos han disminuido para los que fueron clasificados correctamente. \n",
    "Así en las siguientes iteraciones, las observaciones que son más dificiles de clasificar correctamente, incrementan su influencia. "
   ]
  },
  {
   "cell_type": "markdown",
   "metadata": {},
   "source": [
    "#### Algoritmo\n",
    "1. Inicializar las observaciones ponderadas por $w_i=1/N$ $i=1,..,N$\n",
    "2. Para m= 1 a M:\n",
    "\n",
    "(a) Ajustar un clasificador $G_m(x)$ a los datos de entrenamiento, usando pesos $w_i$\n",
    "\n",
    "(b) Calcular:\n",
    " $$\n",
    " err_m=\\dfrac{\\sum_{i=1}^Nw_iI(y_i\\neq G_m(x_i))}{\\sum_{i=1}^Nw_i}\n",
    " $$\n",
    "(c) Calcular $\\alpha_m=\\log((1-err_m)/err_m)$.\n",
    "\n",
    "(d) Hacer $w_i\\rightarrow w_i*\\exp[\\alpha_m I(y_i\\neq G_m(x_i))]$ $i=1,2,...,N$\n",
    "3. Salida $G(x) = sign \\left[ \\sum_{m=1}^M \\alpha_m G_m(x) \\right]$\n",
    " \n"
   ]
  },
  {
   "cell_type": "code",
   "execution_count": 42,
   "metadata": {},
   "outputs": [],
   "source": [
    "from   sklearn.ensemble        import AdaBoostClassifier,GradientBoostingClassifier\n",
    "from   sklearn.model_selection import train_test_split,cross_val_score\n",
    "from   sklearn                 import tree\n",
    "from   sklearn.metrics         import accuracy_score\n",
    "import pandas                  as     pd\n",
    "import matplotlib.pylab        as     plt\n",
    "from   sklearn.model_selection import GridSearchCV,RandomizedSearchCV\n",
    "import numpy as np\n",
    "from sklearn import metrics"
   ]
  },
  {
   "cell_type": "code",
   "execution_count": 43,
   "metadata": {},
   "outputs": [
    {
     "data": {
      "text/html": [
       "<div>\n",
       "<style scoped>\n",
       "    .dataframe tbody tr th:only-of-type {\n",
       "        vertical-align: middle;\n",
       "    }\n",
       "\n",
       "    .dataframe tbody tr th {\n",
       "        vertical-align: top;\n",
       "    }\n",
       "\n",
       "    .dataframe thead th {\n",
       "        text-align: right;\n",
       "    }\n",
       "</style>\n",
       "<table border=\"1\" class=\"dataframe\">\n",
       "  <thead>\n",
       "    <tr style=\"text-align: right;\">\n",
       "      <th></th>\n",
       "      <th>row.names</th>\n",
       "      <th>sbp</th>\n",
       "      <th>tobacco</th>\n",
       "      <th>ldl</th>\n",
       "      <th>adiposity</th>\n",
       "      <th>famhist</th>\n",
       "      <th>typea</th>\n",
       "      <th>obesity</th>\n",
       "      <th>alcohol</th>\n",
       "      <th>age</th>\n",
       "      <th>chd</th>\n",
       "    </tr>\n",
       "  </thead>\n",
       "  <tbody>\n",
       "    <tr>\n",
       "      <th>0</th>\n",
       "      <td>1</td>\n",
       "      <td>160</td>\n",
       "      <td>12.00</td>\n",
       "      <td>5.73</td>\n",
       "      <td>23.11</td>\n",
       "      <td>1</td>\n",
       "      <td>49</td>\n",
       "      <td>25.30</td>\n",
       "      <td>97.20</td>\n",
       "      <td>52</td>\n",
       "      <td>1</td>\n",
       "    </tr>\n",
       "    <tr>\n",
       "      <th>1</th>\n",
       "      <td>2</td>\n",
       "      <td>144</td>\n",
       "      <td>0.01</td>\n",
       "      <td>4.41</td>\n",
       "      <td>28.61</td>\n",
       "      <td>0</td>\n",
       "      <td>55</td>\n",
       "      <td>28.87</td>\n",
       "      <td>2.06</td>\n",
       "      <td>63</td>\n",
       "      <td>1</td>\n",
       "    </tr>\n",
       "  </tbody>\n",
       "</table>\n",
       "</div>"
      ],
      "text/plain": [
       "   row.names  sbp  tobacco   ldl  adiposity  famhist  typea  obesity  alcohol  \\\n",
       "0          1  160    12.00  5.73      23.11        1     49    25.30    97.20   \n",
       "1          2  144     0.01  4.41      28.61        0     55    28.87     2.06   \n",
       "\n",
       "   age  chd  \n",
       "0   52    1  \n",
       "1   63    1  "
      ]
     },
     "execution_count": 43,
     "metadata": {},
     "output_type": "execute_result"
    }
   ],
   "source": [
    "data=pd.read_csv('coris.csv',sep=',',header=0)\n",
    "data.shape\n",
    "data.head(2)"
   ]
  },
  {
   "cell_type": "code",
   "execution_count": 44,
   "metadata": {},
   "outputs": [],
   "source": [
    "y=data.pop(\"chd\")\n",
    "X=data\n",
    "X_train, X_test, y_train, y_test = train_test_split(X, y, test_size=0.30, random_state=42)"
   ]
  },
  {
   "cell_type": "code",
   "execution_count": 45,
   "metadata": {},
   "outputs": [],
   "source": [
    "seed=7\n",
    "cart=tree.DecisionTreeClassifier(max_depth=7)\n",
    "n_trees=100"
   ]
  },
  {
   "cell_type": "code",
   "execution_count": 46,
   "metadata": {},
   "outputs": [
    {
     "data": {
      "text/plain": [
       "AdaBoostClassifier(algorithm='SAMME.R',\n",
       "                   base_estimator=DecisionTreeClassifier(ccp_alpha=0.0,\n",
       "                                                         class_weight=None,\n",
       "                                                         criterion='gini',\n",
       "                                                         max_depth=7,\n",
       "                                                         max_features=None,\n",
       "                                                         max_leaf_nodes=None,\n",
       "                                                         min_impurity_decrease=0.0,\n",
       "                                                         min_impurity_split=None,\n",
       "                                                         min_samples_leaf=1,\n",
       "                                                         min_samples_split=2,\n",
       "                                                         min_weight_fraction_leaf=0.0,\n",
       "                                                         presort='deprecated',\n",
       "                                                         random_state=None,\n",
       "                                                         splitter='best'),\n",
       "                   learning_rate=1.0, n_estimators=100, random_state=7)"
      ]
     },
     "execution_count": 46,
     "metadata": {},
     "output_type": "execute_result"
    }
   ],
   "source": [
    "boostingModel = AdaBoostClassifier(base_estimator=cart, n_estimators=n_trees,random_state=seed)\n",
    "boostingModel.fit(X_train,y_train)"
   ]
  },
  {
   "cell_type": "code",
   "execution_count": 47,
   "metadata": {},
   "outputs": [
    {
     "name": "stdout",
     "output_type": "stream",
     "text": [
      "Porcentaje de datos bien clasificados\n",
      "0.6834532374100719\n",
      "número de datos bien clasificados\n"
     ]
    },
    {
     "data": {
      "text/plain": [
       "95"
      ]
     },
     "execution_count": 47,
     "metadata": {},
     "output_type": "execute_result"
    }
   ],
   "source": [
    "y_boost=boostingModel.predict(X_test)\n",
    "print('Porcentaje de datos bien clasificados')\n",
    "print(accuracy_score(y_test,y_boost))\n",
    "print('número de datos bien clasificados')\n",
    "accuracy_score(y_test,y_boost,normalize=False)"
   ]
  },
  {
   "cell_type": "markdown",
   "metadata": {},
   "source": [
    "### Hiperparametros\n",
    "1. $\\mathcal{learning\\_rate}$. Tasa de aprendizaje reduce la contribución de cada árbol en la tasa de aprendizaje"
   ]
  },
  {
   "cell_type": "code",
   "execution_count": 16,
   "metadata": {},
   "outputs": [
    {
     "data": {
      "text/plain": [
       "{'base_estimator__criterion': 'gini',\n",
       " 'base_estimator__max_depth': 10,\n",
       " 'n_estimators': 111}"
      ]
     },
     "execution_count": 16,
     "metadata": {},
     "output_type": "execute_result"
    }
   ],
   "source": [
    "param_grid = {\n",
    "    'base_estimator__max_depth' : [4,5,7,8,9,10],\n",
    "    'n_estimators' :[i for i in range(10,120,1)],\n",
    "    'learning_rate':[0.1,0.5,1]\n",
    "}\n",
    "\n",
    "boostingModelHiper = GridSearchCV(AdaBoostClassifier(tree.DecisionTreeClassifier(ccp_alpha= 0.015)),param_grid, scoring = 'accuracy')\n",
    "boostingModelHiper.fit(X_train, y_train)\n",
    "boostingModelHiper.best_params_"
   ]
  },
  {
   "cell_type": "code",
   "execution_count": 17,
   "metadata": {},
   "outputs": [
    {
     "name": "stdout",
     "output_type": "stream",
     "text": [
      "Porcentaje de datos bien clasificados\n",
      "0.6834532374100719\n",
      "número de datos bien clasificados\n"
     ]
    },
    {
     "data": {
      "text/plain": [
       "95"
      ]
     },
     "execution_count": 17,
     "metadata": {},
     "output_type": "execute_result"
    }
   ],
   "source": [
    "y_boosthip=boostingModel.predict(X_test)\n",
    "print('Porcentaje de datos bien clasificados')\n",
    "print(accuracy_score(y_test,y_boosthip))\n",
    "print('número de datos bien clasificados')\n",
    "accuracy_score(y_test,y_boosthip,normalize=False)"
   ]
  },
  {
   "cell_type": "code",
   "execution_count": 48,
   "metadata": {},
   "outputs": [
    {
     "data": {
      "text/plain": [
       "array([[0.70754717, 0.45454545],\n",
       "       [0.29245283, 0.54545455]])"
      ]
     },
     "execution_count": 48,
     "metadata": {},
     "output_type": "execute_result"
    },
    {
     "data": {
      "image/png": "[encoded data removed]",
      "text/plain": [
       "<Figure size 432x288 with 2 Axes>"
      ]
     },
     "metadata": {
      "needs_background": "light"
     },
     "output_type": "display_data"
    }
   ],
   "source": [
    "disp=metrics.plot_confusion_matrix(boostingModelHiper, X_test, y_test,normalize=\"pred\")\n",
    "disp.ax_.set_title(\"Matriz de Confusión\")\n",
    "disp.confusion_matrix"
   ]
  },
  {
   "cell_type": "code",
   "execution_count": 19,
   "metadata": {},
   "outputs": [],
   "source": [
    "#calculo de las probabilidades y el AUC\n",
    "probs = boostingModelHiper.predict_proba(X_test)\n",
    "preds = probs[:,1]\n",
    "fpr, tpr, threshold = metrics.roc_curve(y_test, preds)\n",
    "roc_auc = metrics.auc(fpr, tpr)"
   ]
  },
  {
   "cell_type": "code",
   "execution_count": 20,
   "metadata": {},
   "outputs": [
    {
     "data": {
      "image/png": "[encoded data removed]",
      "text/plain": [
       "<Figure size 432x288 with 1 Axes>"
      ]
     },
     "metadata": {
      "needs_background": "light"
     },
     "output_type": "display_data"
    }
   ],
   "source": [
    "plt.figure()\n",
    "plt.plot(fpr, tpr, label='GridSearchCV (area = %0.2f)' % roc_auc)\n",
    "plt.plot([0, 1], [0, 1],'r--')\n",
    "plt.xlim([0.0, 1.0])\n",
    "plt.ylim([0.0, 1.05])\n",
    "plt.xlabel('Tasa de falsos positivos')\n",
    "plt.ylabel('Tasa de verdaderos positivos')\n",
    "plt.title('curva ROC')\n",
    "plt.legend(loc=\"lower right\")\n",
    "plt.savefig('Log_ROC')\n",
    "plt.show()"
   ]
  },
  {
   "cell_type": "markdown",
   "metadata": {},
   "source": [
    "#### Gradient Tree Boosting o Gradient Boosted Decision Trees (GBDT) \n",
    "Es una generalización de Boosting a funciones de pérdida diferenciables arbitrarias. GBDT es un procedimiento estándar preciso y eficaz que se puede utilizar para problemas de regresión y clasificación en una variedad de áreas.\n",
    "\n",
    "El módulo sklearn.ensemble proporciona métodos para clasificación y regresión a través de árboles de decisión potenciados por gradientes."
   ]
  },
  {
   "cell_type": "code",
   "execution_count": 49,
   "metadata": {},
   "outputs": [
    {
     "data": {
      "text/plain": [
       "GradientBoostingClassifier(ccp_alpha=0.0, criterion='friedman_mse', init=None,\n",
       "                           learning_rate=1.0, loss='deviance', max_depth=7,\n",
       "                           max_features=None, max_leaf_nodes=None,\n",
       "                           min_impurity_decrease=0.0, min_impurity_split=None,\n",
       "                           min_samples_leaf=1, min_samples_split=2,\n",
       "                           min_weight_fraction_leaf=0.0, n_estimators=100,\n",
       "                           n_iter_no_change=None, presort='deprecated',\n",
       "                           random_state=7, subsample=1.0, tol=0.0001,\n",
       "                           validation_fraction=0.1, verbose=0,\n",
       "                           warm_start=False)"
      ]
     },
     "execution_count": 49,
     "metadata": {},
     "output_type": "execute_result"
    }
   ],
   "source": [
    "clf = GradientBoostingClassifier(n_estimators=100, learning_rate=1.0,max_depth=7, random_state=seed)\n",
    "clf.fit(X_train,y_train)"
   ]
  },
  {
   "cell_type": "code",
   "execution_count": 50,
   "metadata": {},
   "outputs": [
    {
     "name": "stdout",
     "output_type": "stream",
     "text": [
      "Porcentaje de datos bien clasificados\n",
      "0.6690647482014388\n",
      "número de datos bien clasificados\n"
     ]
    },
    {
     "data": {
      "text/plain": [
       "93"
      ]
     },
     "execution_count": 50,
     "metadata": {},
     "output_type": "execute_result"
    }
   ],
   "source": [
    "y_clf=clf.predict(X_test)\n",
    "print('Porcentaje de datos bien clasificados')\n",
    "print(accuracy_score(y_test,y_clf))\n",
    "print('número de datos bien clasificados')\n",
    "accuracy_score(y_test,y_clf,normalize=False)"
   ]
  },
  {
   "cell_type": "code",
   "execution_count": 52,
   "metadata": {},
   "outputs": [
    {
     "data": {
      "text/plain": [
       "{'learning_rate': 0.1, 'max_depth': 3, 'n_estimators': 90}"
      ]
     },
     "execution_count": 52,
     "metadata": {},
     "output_type": "execute_result"
    }
   ],
   "source": [
    "param_grid = {\n",
    "    'max_depth':[3,4,5,6,7,8,9,10],\n",
    "    'n_estimators' :[i for i in range(10,120,1)],\n",
    "    'learning_rate':[0.1, 0.5,1],\n",
    "}\n",
    "\n",
    "gradboostingModelHiper = GridSearchCV(GradientBoostingClassifier(max_depth=7, random_state=seed),param_grid, scoring = 'accuracy')\n",
    "gradboostingModelHiper.fit(X_train, y_train)\n",
    "gradboostingModelHiper.best_params_"
   ]
  },
  {
   "cell_type": "code",
   "execution_count": 53,
   "metadata": {},
   "outputs": [
    {
     "name": "stdout",
     "output_type": "stream",
     "text": [
      "Porcentaje de datos bien clasificados\n",
      "0.7050359712230215\n",
      "número de datos bien clasificados\n"
     ]
    },
    {
     "data": {
      "text/plain": [
       "98"
      ]
     },
     "execution_count": 53,
     "metadata": {},
     "output_type": "execute_result"
    }
   ],
   "source": [
    "y_boostgrad=gradboostingModelHiper.predict(X_test)\n",
    "print('Porcentaje de datos bien clasificados')\n",
    "print(accuracy_score(y_test,y_boostgrad))\n",
    "print('número de datos bien clasificados')\n",
    "accuracy_score(y_test,y_boostgrad,normalize=False)"
   ]
  },
  {
   "cell_type": "code",
   "execution_count": null,
   "metadata": {},
   "outputs": [],
   "source": [
    "acc=0.7, num=98"
   ]
  },
  {
   "cell_type": "code",
   "execution_count": 54,
   "metadata": {},
   "outputs": [
    {
     "data": {
      "text/plain": [
       "array([[0.74747475, 0.4       ],\n",
       "       [0.25252525, 0.6       ]])"
      ]
     },
     "execution_count": 54,
     "metadata": {},
     "output_type": "execute_result"
    },
    {
     "data": {
      "image/png": "[encoded data removed]",
      "text/plain": [
       "<Figure size 432x288 with 2 Axes>"
      ]
     },
     "metadata": {
      "needs_background": "light"
     },
     "output_type": "display_data"
    }
   ],
   "source": [
    "disp=metrics.plot_confusion_matrix(gradboostingModelHiper, X_test, y_test,normalize=\"pred\")\n",
    "disp.ax_.set_title(\"Matriz de Confusión\")\n",
    "disp.confusion_matrix"
   ]
  },
  {
   "cell_type": "code",
   "execution_count": 38,
   "metadata": {},
   "outputs": [],
   "source": [
    "#calculo de las probabilidades y el AUC\n",
    "probs = gradboostingModelHiper.predict_proba(X_test)\n",
    "preds = probs[:,1]\n",
    "fpr, tpr, threshold = metrics.roc_curve(y_test, preds)\n",
    "roc_auc = metrics.auc(fpr, tpr)"
   ]
  },
  {
   "cell_type": "code",
   "execution_count": 39,
   "metadata": {},
   "outputs": [
    {
     "data": {
      "image/png": "[encoded data removed]",
      "text/plain": [
       "<Figure size 432x288 with 1 Axes>"
      ]
     },
     "metadata": {
      "needs_background": "light"
     },
     "output_type": "display_data"
    }
   ],
   "source": [
    "plt.figure()\n",
    "plt.plot(fpr, tpr, label='GridSearchCV (area = %0.2f)' % roc_auc)\n",
    "plt.plot([0, 1], [0, 1],'r--')\n",
    "plt.xlim([0.0, 1.0])\n",
    "plt.ylim([0.0, 1.05])\n",
    "plt.xlabel('Tasa de falsos positivos')\n",
    "plt.ylabel('Tasa de verdaderos positivos')\n",
    "plt.title('curva ROC')\n",
    "plt.legend(loc=\"lower right\")\n",
    "plt.savefig('Log_ROC')\n",
    "plt.show()"
   ]
  }
 ],
 "metadata": {
  "kernelspec": {
   "display_name": "Python 3",
   "language": "python",
   "name": "python3"
  },
  "language_info": {
   "codemirror_mode": {
    "name": "ipython",
    "version": 3
   },
   "file_extension": ".py",
   "mimetype": "text/x-python",
   "name": "python",
   "nbconvert_exporter": "python",
   "pygments_lexer": "ipython3",
   "version": "3.7.3"
  }
 },
 "nbformat": 4,
 "nbformat_minor": 2
}
